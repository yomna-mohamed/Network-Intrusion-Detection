{
 "cells": [
  {
   "cell_type": "code",
   "execution_count": 65,
   "id": "d620a378",
   "metadata": {},
   "outputs": [],
   "source": [
    "import pandas as pd\n",
    "import numpy as np\n",
    "import matplotlib.pyplot as plt\n",
    "import seaborn as sns\n"
   ]
  },
  {
   "cell_type": "code",
   "execution_count": 66,
   "id": "b2071bc4",
   "metadata": {},
   "outputs": [],
   "source": [
    "Data = pd.read_csv('C:/Users/mm/Training.tsv', sep='\\t', header=0)\n",
    "Data.columns =['index', 'category', 'word_vector', 'label']\n",
    "x = Data.drop(['label'],axis=1)\n",
    "y =Data['label']"
   ]
  },
  {
   "cell_type": "code",
   "execution_count": 67,
   "id": "a5a51815",
   "metadata": {},
   "outputs": [],
   "source": [
    "Data_test = pd.read_csv('C:/Users/mm/Testing.tsv', sep='\\t', header=0)\n",
    "Data_test.columns =['index', 'category', 'word_vector']"
   ]
  },
  {
   "cell_type": "markdown",
   "id": "499a36dc",
   "metadata": {},
   "source": [
    "**Target mapping**"
   ]
  },
  {
   "cell_type": "code",
   "execution_count": 68,
   "id": "53397c5a",
   "metadata": {},
   "outputs": [],
   "source": [
    "import warnings\n",
    "warnings.filterwarnings(\"ignore\")"
   ]
  },
  {
   "cell_type": "code",
   "execution_count": 69,
   "id": "d73be3c8",
   "metadata": {},
   "outputs": [],
   "source": [
    "y[y==1]=1\n",
    "y[y==2]=0\n",
    "y=y.astype(int)\n"
   ]
  },
  {
   "cell_type": "code",
   "execution_count": 6,
   "id": "97d149ce",
   "metadata": {},
   "outputs": [
    {
     "data": {
      "text/plain": [
       "1    61520\n",
       "0    61520\n",
       "Name: label, dtype: int64"
      ]
     },
     "execution_count": 6,
     "metadata": {},
     "output_type": "execute_result"
    }
   ],
   "source": [
    "y.value_counts()\n",
    "# 1 =1 mal , 0=2 ben"
   ]
  },
  {
   "cell_type": "code",
   "execution_count": 70,
   "id": "8e3fbdda",
   "metadata": {},
   "outputs": [],
   "source": [
    "Category =pd.DataFrame(x['category'])"
   ]
  },
  {
   "cell_type": "code",
   "execution_count": 49,
   "id": "6de5a344",
   "metadata": {},
   "outputs": [],
   "source": [
    "Category =pd.DataFrame(Data_test['category'])"
   ]
  },
  {
   "cell_type": "code",
   "execution_count": 71,
   "id": "16c2e6a5",
   "metadata": {},
   "outputs": [
    {
     "data": {
      "text/plain": [
       "0         [[-0.507, -0.49518, 0.46885, 0.54524, -0.11552...\n",
       "1         [[0.19911, -0.46156, 0.19674, -1.3298, 0.51805...\n",
       "2         [[-0.7403, -0.78746, 0.47018, 0.43474, 0.05842...\n",
       "3         [[-0.44257, -0.54624, 0.25403, 0.80731, 1.026,...\n",
       "4         [[0.19911, -0.46156, 0.19674, -1.3298, 0.51805...\n",
       "                                ...                        \n",
       "123035    [[-0.081545, 0.25175, 0.027983, 0.064531, 0.25...\n",
       "123036    [[-0.35721, -0.54399, 0.26479, -0.15312, -0.00...\n",
       "123037    [[-1.5145, 0.9682, 0.34735, 1.0024, 0.042789, ...\n",
       "123038    [[0.19911, -0.46156, 0.19674, -1.3298, 0.51805...\n",
       "123039    [[0.19911, -0.46156, 0.19674, -1.3298, 0.51805...\n",
       "Name: word_vector, Length: 123040, dtype: object"
      ]
     },
     "execution_count": 71,
     "metadata": {},
     "output_type": "execute_result"
    }
   ],
   "source": [
    "x['word_vector']"
   ]
  },
  {
   "cell_type": "markdown",
   "id": "1bbfe91d",
   "metadata": {},
   "source": [
    "**Convert string nested list into integer type**"
   ]
  },
  {
   "cell_type": "code",
   "execution_count": 72,
   "id": "8e77d1b0",
   "metadata": {},
   "outputs": [],
   "source": [
    "x[\"word_vector\"]=[eval(t) for t in x[\"word_vector\"]]"
   ]
  },
  {
   "cell_type": "code",
   "execution_count": 50,
   "id": "3cc53c21",
   "metadata": {},
   "outputs": [],
   "source": [
    "Data_test[\"word_vector\"]=[eval(t) for t in Data_test[\"word_vector\"]]"
   ]
  },
  {
   "cell_type": "code",
   "execution_count": 73,
   "id": "3846e8a8",
   "metadata": {},
   "outputs": [],
   "source": [
    "x[\"word_vector\"] = x[\"word_vector\"].apply(lambda r: np.array(r))"
   ]
  },
  {
   "cell_type": "code",
   "execution_count": 56,
   "id": "97cfe04e",
   "metadata": {},
   "outputs": [],
   "source": [
    "Data_test[\"word_vector\"] =Data_test[\"word_vector\"].apply(lambda k: np.array(k))"
   ]
  },
  {
   "cell_type": "code",
   "execution_count": 74,
   "id": "5e5eeb32",
   "metadata": {},
   "outputs": [
    {
     "data": {
      "text/html": [
       "<div>\n",
       "<style scoped>\n",
       "    .dataframe tbody tr th:only-of-type {\n",
       "        vertical-align: middle;\n",
       "    }\n",
       "\n",
       "    .dataframe tbody tr th {\n",
       "        vertical-align: top;\n",
       "    }\n",
       "\n",
       "    .dataframe thead th {\n",
       "        text-align: right;\n",
       "    }\n",
       "</style>\n",
       "<table border=\"1\" class=\"dataframe\">\n",
       "  <thead>\n",
       "    <tr style=\"text-align: right;\">\n",
       "      <th></th>\n",
       "      <th>0</th>\n",
       "      <th>1</th>\n",
       "      <th>2</th>\n",
       "      <th>3</th>\n",
       "      <th>4</th>\n",
       "      <th>5</th>\n",
       "      <th>6</th>\n",
       "      <th>7</th>\n",
       "      <th>8</th>\n",
       "      <th>9</th>\n",
       "      <th>...</th>\n",
       "      <th>90</th>\n",
       "      <th>91</th>\n",
       "      <th>92</th>\n",
       "      <th>93</th>\n",
       "      <th>94</th>\n",
       "      <th>95</th>\n",
       "      <th>96</th>\n",
       "      <th>97</th>\n",
       "      <th>98</th>\n",
       "      <th>99</th>\n",
       "    </tr>\n",
       "  </thead>\n",
       "  <tbody>\n",
       "    <tr>\n",
       "      <th>0</th>\n",
       "      <td>0.744250</td>\n",
       "      <td>0.314920</td>\n",
       "      <td>1.15810</td>\n",
       "      <td>1.82440</td>\n",
       "      <td>1.57700</td>\n",
       "      <td>0.45372</td>\n",
       "      <td>0.680690</td>\n",
       "      <td>1.55550</td>\n",
       "      <td>0.39125</td>\n",
       "      <td>0.82517</td>\n",
       "      <td>...</td>\n",
       "      <td>0.81531</td>\n",
       "      <td>0.41734</td>\n",
       "      <td>0.39693</td>\n",
       "      <td>0.412650</td>\n",
       "      <td>0.46879</td>\n",
       "      <td>1.4985</td>\n",
       "      <td>0.192890</td>\n",
       "      <td>0.62702</td>\n",
       "      <td>0.65401</td>\n",
       "      <td>0.73385</td>\n",
       "    </tr>\n",
       "    <tr>\n",
       "      <th>1</th>\n",
       "      <td>0.199110</td>\n",
       "      <td>-0.461560</td>\n",
       "      <td>0.19674</td>\n",
       "      <td>-1.32980</td>\n",
       "      <td>0.51805</td>\n",
       "      <td>1.27910</td>\n",
       "      <td>0.408520</td>\n",
       "      <td>0.17056</td>\n",
       "      <td>-1.31570</td>\n",
       "      <td>-0.22628</td>\n",
       "      <td>...</td>\n",
       "      <td>1.01640</td>\n",
       "      <td>-0.16269</td>\n",
       "      <td>-1.87270</td>\n",
       "      <td>-0.728680</td>\n",
       "      <td>0.77347</td>\n",
       "      <td>1.1669</td>\n",
       "      <td>0.610710</td>\n",
       "      <td>-0.74036</td>\n",
       "      <td>0.53079</td>\n",
       "      <td>-0.36638</td>\n",
       "    </tr>\n",
       "    <tr>\n",
       "      <th>2</th>\n",
       "      <td>1.264000</td>\n",
       "      <td>0.093259</td>\n",
       "      <td>1.15810</td>\n",
       "      <td>0.46354</td>\n",
       "      <td>1.54510</td>\n",
       "      <td>0.91477</td>\n",
       "      <td>0.556690</td>\n",
       "      <td>1.55270</td>\n",
       "      <td>0.39125</td>\n",
       "      <td>-0.03233</td>\n",
       "      <td>...</td>\n",
       "      <td>0.50362</td>\n",
       "      <td>0.18939</td>\n",
       "      <td>-0.14977</td>\n",
       "      <td>0.140970</td>\n",
       "      <td>1.66580</td>\n",
       "      <td>0.7062</td>\n",
       "      <td>-0.518300</td>\n",
       "      <td>0.63028</td>\n",
       "      <td>0.67819</td>\n",
       "      <td>0.38753</td>\n",
       "    </tr>\n",
       "    <tr>\n",
       "      <th>3</th>\n",
       "      <td>-0.000677</td>\n",
       "      <td>0.300840</td>\n",
       "      <td>0.47018</td>\n",
       "      <td>1.68840</td>\n",
       "      <td>1.13670</td>\n",
       "      <td>1.13270</td>\n",
       "      <td>0.808910</td>\n",
       "      <td>1.51580</td>\n",
       "      <td>-0.08339</td>\n",
       "      <td>0.46054</td>\n",
       "      <td>...</td>\n",
       "      <td>0.52432</td>\n",
       "      <td>0.68222</td>\n",
       "      <td>0.36768</td>\n",
       "      <td>0.675500</td>\n",
       "      <td>1.16860</td>\n",
       "      <td>1.3229</td>\n",
       "      <td>0.822820</td>\n",
       "      <td>0.77615</td>\n",
       "      <td>1.11130</td>\n",
       "      <td>0.90024</td>\n",
       "    </tr>\n",
       "    <tr>\n",
       "      <th>4</th>\n",
       "      <td>0.199110</td>\n",
       "      <td>-0.461560</td>\n",
       "      <td>0.19674</td>\n",
       "      <td>-1.32980</td>\n",
       "      <td>0.51805</td>\n",
       "      <td>1.27910</td>\n",
       "      <td>0.408520</td>\n",
       "      <td>0.17056</td>\n",
       "      <td>-1.31570</td>\n",
       "      <td>-0.22628</td>\n",
       "      <td>...</td>\n",
       "      <td>1.01640</td>\n",
       "      <td>-0.16269</td>\n",
       "      <td>-1.87270</td>\n",
       "      <td>-0.728680</td>\n",
       "      <td>0.77347</td>\n",
       "      <td>1.1669</td>\n",
       "      <td>0.610710</td>\n",
       "      <td>-0.74036</td>\n",
       "      <td>0.53079</td>\n",
       "      <td>-0.36638</td>\n",
       "    </tr>\n",
       "    <tr>\n",
       "      <th>...</th>\n",
       "      <td>...</td>\n",
       "      <td>...</td>\n",
       "      <td>...</td>\n",
       "      <td>...</td>\n",
       "      <td>...</td>\n",
       "      <td>...</td>\n",
       "      <td>...</td>\n",
       "      <td>...</td>\n",
       "      <td>...</td>\n",
       "      <td>...</td>\n",
       "      <td>...</td>\n",
       "      <td>...</td>\n",
       "      <td>...</td>\n",
       "      <td>...</td>\n",
       "      <td>...</td>\n",
       "      <td>...</td>\n",
       "      <td>...</td>\n",
       "      <td>...</td>\n",
       "      <td>...</td>\n",
       "      <td>...</td>\n",
       "      <td>...</td>\n",
       "    </tr>\n",
       "    <tr>\n",
       "      <th>123035</th>\n",
       "      <td>0.744250</td>\n",
       "      <td>0.595200</td>\n",
       "      <td>1.15810</td>\n",
       "      <td>1.05870</td>\n",
       "      <td>0.59834</td>\n",
       "      <td>0.87438</td>\n",
       "      <td>0.808910</td>\n",
       "      <td>1.51580</td>\n",
       "      <td>0.39125</td>\n",
       "      <td>-0.03233</td>\n",
       "      <td>...</td>\n",
       "      <td>0.81531</td>\n",
       "      <td>0.57759</td>\n",
       "      <td>0.35237</td>\n",
       "      <td>0.132720</td>\n",
       "      <td>1.57630</td>\n",
       "      <td>1.3229</td>\n",
       "      <td>0.043685</td>\n",
       "      <td>0.68529</td>\n",
       "      <td>1.44130</td>\n",
       "      <td>0.29600</td>\n",
       "    </tr>\n",
       "    <tr>\n",
       "      <th>123036</th>\n",
       "      <td>-0.000677</td>\n",
       "      <td>-0.543990</td>\n",
       "      <td>0.87098</td>\n",
       "      <td>1.68840</td>\n",
       "      <td>0.14309</td>\n",
       "      <td>0.43380</td>\n",
       "      <td>-0.040783</td>\n",
       "      <td>0.64459</td>\n",
       "      <td>-0.08339</td>\n",
       "      <td>-0.48477</td>\n",
       "      <td>...</td>\n",
       "      <td>0.52432</td>\n",
       "      <td>0.69017</td>\n",
       "      <td>0.72517</td>\n",
       "      <td>0.035265</td>\n",
       "      <td>0.88875</td>\n",
       "      <td>1.5286</td>\n",
       "      <td>0.201630</td>\n",
       "      <td>0.11263</td>\n",
       "      <td>1.47490</td>\n",
       "      <td>0.90024</td>\n",
       "    </tr>\n",
       "    <tr>\n",
       "      <th>123037</th>\n",
       "      <td>1.264000</td>\n",
       "      <td>0.968200</td>\n",
       "      <td>0.93292</td>\n",
       "      <td>1.68840</td>\n",
       "      <td>1.54510</td>\n",
       "      <td>0.46053</td>\n",
       "      <td>0.162770</td>\n",
       "      <td>1.55270</td>\n",
       "      <td>0.66436</td>\n",
       "      <td>0.17847</td>\n",
       "      <td>...</td>\n",
       "      <td>0.52432</td>\n",
       "      <td>0.72676</td>\n",
       "      <td>0.72517</td>\n",
       "      <td>0.412650</td>\n",
       "      <td>0.85194</td>\n",
       "      <td>1.5286</td>\n",
       "      <td>0.761460</td>\n",
       "      <td>0.63028</td>\n",
       "      <td>0.40924</td>\n",
       "      <td>0.90024</td>\n",
       "    </tr>\n",
       "    <tr>\n",
       "      <th>123038</th>\n",
       "      <td>0.199110</td>\n",
       "      <td>-0.461560</td>\n",
       "      <td>0.19674</td>\n",
       "      <td>-1.32980</td>\n",
       "      <td>0.51805</td>\n",
       "      <td>1.27910</td>\n",
       "      <td>0.408520</td>\n",
       "      <td>0.17056</td>\n",
       "      <td>-1.31570</td>\n",
       "      <td>-0.22628</td>\n",
       "      <td>...</td>\n",
       "      <td>1.01640</td>\n",
       "      <td>-0.16269</td>\n",
       "      <td>-1.87270</td>\n",
       "      <td>-0.728680</td>\n",
       "      <td>0.77347</td>\n",
       "      <td>1.1669</td>\n",
       "      <td>0.610710</td>\n",
       "      <td>-0.74036</td>\n",
       "      <td>0.53079</td>\n",
       "      <td>-0.36638</td>\n",
       "    </tr>\n",
       "    <tr>\n",
       "      <th>123039</th>\n",
       "      <td>0.199110</td>\n",
       "      <td>-0.461560</td>\n",
       "      <td>0.19674</td>\n",
       "      <td>-1.32980</td>\n",
       "      <td>0.51805</td>\n",
       "      <td>1.27910</td>\n",
       "      <td>0.408520</td>\n",
       "      <td>0.17056</td>\n",
       "      <td>-1.31570</td>\n",
       "      <td>-0.22628</td>\n",
       "      <td>...</td>\n",
       "      <td>1.01640</td>\n",
       "      <td>-0.16269</td>\n",
       "      <td>-1.87270</td>\n",
       "      <td>-0.728680</td>\n",
       "      <td>0.77347</td>\n",
       "      <td>1.1669</td>\n",
       "      <td>0.610710</td>\n",
       "      <td>-0.74036</td>\n",
       "      <td>0.53079</td>\n",
       "      <td>-0.36638</td>\n",
       "    </tr>\n",
       "  </tbody>\n",
       "</table>\n",
       "<p>123040 rows × 100 columns</p>\n",
       "</div>"
      ],
      "text/plain": [
       "              0         1        2        3        4        5         6   \\\n",
       "0       0.744250  0.314920  1.15810  1.82440  1.57700  0.45372  0.680690   \n",
       "1       0.199110 -0.461560  0.19674 -1.32980  0.51805  1.27910  0.408520   \n",
       "2       1.264000  0.093259  1.15810  0.46354  1.54510  0.91477  0.556690   \n",
       "3      -0.000677  0.300840  0.47018  1.68840  1.13670  1.13270  0.808910   \n",
       "4       0.199110 -0.461560  0.19674 -1.32980  0.51805  1.27910  0.408520   \n",
       "...          ...       ...      ...      ...      ...      ...       ...   \n",
       "123035  0.744250  0.595200  1.15810  1.05870  0.59834  0.87438  0.808910   \n",
       "123036 -0.000677 -0.543990  0.87098  1.68840  0.14309  0.43380 -0.040783   \n",
       "123037  1.264000  0.968200  0.93292  1.68840  1.54510  0.46053  0.162770   \n",
       "123038  0.199110 -0.461560  0.19674 -1.32980  0.51805  1.27910  0.408520   \n",
       "123039  0.199110 -0.461560  0.19674 -1.32980  0.51805  1.27910  0.408520   \n",
       "\n",
       "             7        8        9   ...       90       91       92        93  \\\n",
       "0       1.55550  0.39125  0.82517  ...  0.81531  0.41734  0.39693  0.412650   \n",
       "1       0.17056 -1.31570 -0.22628  ...  1.01640 -0.16269 -1.87270 -0.728680   \n",
       "2       1.55270  0.39125 -0.03233  ...  0.50362  0.18939 -0.14977  0.140970   \n",
       "3       1.51580 -0.08339  0.46054  ...  0.52432  0.68222  0.36768  0.675500   \n",
       "4       0.17056 -1.31570 -0.22628  ...  1.01640 -0.16269 -1.87270 -0.728680   \n",
       "...         ...      ...      ...  ...      ...      ...      ...       ...   \n",
       "123035  1.51580  0.39125 -0.03233  ...  0.81531  0.57759  0.35237  0.132720   \n",
       "123036  0.64459 -0.08339 -0.48477  ...  0.52432  0.69017  0.72517  0.035265   \n",
       "123037  1.55270  0.66436  0.17847  ...  0.52432  0.72676  0.72517  0.412650   \n",
       "123038  0.17056 -1.31570 -0.22628  ...  1.01640 -0.16269 -1.87270 -0.728680   \n",
       "123039  0.17056 -1.31570 -0.22628  ...  1.01640 -0.16269 -1.87270 -0.728680   \n",
       "\n",
       "             94      95        96       97       98       99  \n",
       "0       0.46879  1.4985  0.192890  0.62702  0.65401  0.73385  \n",
       "1       0.77347  1.1669  0.610710 -0.74036  0.53079 -0.36638  \n",
       "2       1.66580  0.7062 -0.518300  0.63028  0.67819  0.38753  \n",
       "3       1.16860  1.3229  0.822820  0.77615  1.11130  0.90024  \n",
       "4       0.77347  1.1669  0.610710 -0.74036  0.53079 -0.36638  \n",
       "...         ...     ...       ...      ...      ...      ...  \n",
       "123035  1.57630  1.3229  0.043685  0.68529  1.44130  0.29600  \n",
       "123036  0.88875  1.5286  0.201630  0.11263  1.47490  0.90024  \n",
       "123037  0.85194  1.5286  0.761460  0.63028  0.40924  0.90024  \n",
       "123038  0.77347  1.1669  0.610710 -0.74036  0.53079 -0.36638  \n",
       "123039  0.77347  1.1669  0.610710 -0.74036  0.53079 -0.36638  \n",
       "\n",
       "[123040 rows x 100 columns]"
      ]
     },
     "execution_count": 74,
     "metadata": {},
     "output_type": "execute_result"
    }
   ],
   "source": [
    "l=[]\n",
    "for vec in x['word_vector'] :\n",
    "    l.append(vec.max(axis=0))\n",
    "word_vec_df=pd.DataFrame(l)\n",
    "word_vec_df"
   ]
  },
  {
   "cell_type": "code",
   "execution_count": 75,
   "id": "36577c0b",
   "metadata": {},
   "outputs": [
    {
     "data": {
      "text/html": [
       "<div>\n",
       "<style scoped>\n",
       "    .dataframe tbody tr th:only-of-type {\n",
       "        vertical-align: middle;\n",
       "    }\n",
       "\n",
       "    .dataframe tbody tr th {\n",
       "        vertical-align: top;\n",
       "    }\n",
       "\n",
       "    .dataframe thead th {\n",
       "        text-align: right;\n",
       "    }\n",
       "</style>\n",
       "<table border=\"1\" class=\"dataframe\">\n",
       "  <thead>\n",
       "    <tr style=\"text-align: right;\">\n",
       "      <th></th>\n",
       "      <th>category</th>\n",
       "      <th>0</th>\n",
       "      <th>1</th>\n",
       "      <th>2</th>\n",
       "      <th>3</th>\n",
       "      <th>4</th>\n",
       "      <th>5</th>\n",
       "      <th>6</th>\n",
       "      <th>7</th>\n",
       "      <th>8</th>\n",
       "      <th>...</th>\n",
       "      <th>90</th>\n",
       "      <th>91</th>\n",
       "      <th>92</th>\n",
       "      <th>93</th>\n",
       "      <th>94</th>\n",
       "      <th>95</th>\n",
       "      <th>96</th>\n",
       "      <th>97</th>\n",
       "      <th>98</th>\n",
       "      <th>99</th>\n",
       "    </tr>\n",
       "  </thead>\n",
       "  <tbody>\n",
       "    <tr>\n",
       "      <th>0</th>\n",
       "      <td>24</td>\n",
       "      <td>0.744250</td>\n",
       "      <td>0.314920</td>\n",
       "      <td>1.15810</td>\n",
       "      <td>1.82440</td>\n",
       "      <td>1.57700</td>\n",
       "      <td>0.45372</td>\n",
       "      <td>0.680690</td>\n",
       "      <td>1.55550</td>\n",
       "      <td>0.39125</td>\n",
       "      <td>...</td>\n",
       "      <td>0.81531</td>\n",
       "      <td>0.41734</td>\n",
       "      <td>0.39693</td>\n",
       "      <td>0.412650</td>\n",
       "      <td>0.46879</td>\n",
       "      <td>1.4985</td>\n",
       "      <td>0.192890</td>\n",
       "      <td>0.62702</td>\n",
       "      <td>0.65401</td>\n",
       "      <td>0.73385</td>\n",
       "    </tr>\n",
       "    <tr>\n",
       "      <th>1</th>\n",
       "      <td>13</td>\n",
       "      <td>0.199110</td>\n",
       "      <td>-0.461560</td>\n",
       "      <td>0.19674</td>\n",
       "      <td>-1.32980</td>\n",
       "      <td>0.51805</td>\n",
       "      <td>1.27910</td>\n",
       "      <td>0.408520</td>\n",
       "      <td>0.17056</td>\n",
       "      <td>-1.31570</td>\n",
       "      <td>...</td>\n",
       "      <td>1.01640</td>\n",
       "      <td>-0.16269</td>\n",
       "      <td>-1.87270</td>\n",
       "      <td>-0.728680</td>\n",
       "      <td>0.77347</td>\n",
       "      <td>1.1669</td>\n",
       "      <td>0.610710</td>\n",
       "      <td>-0.74036</td>\n",
       "      <td>0.53079</td>\n",
       "      <td>-0.36638</td>\n",
       "    </tr>\n",
       "    <tr>\n",
       "      <th>2</th>\n",
       "      <td>24</td>\n",
       "      <td>1.264000</td>\n",
       "      <td>0.093259</td>\n",
       "      <td>1.15810</td>\n",
       "      <td>0.46354</td>\n",
       "      <td>1.54510</td>\n",
       "      <td>0.91477</td>\n",
       "      <td>0.556690</td>\n",
       "      <td>1.55270</td>\n",
       "      <td>0.39125</td>\n",
       "      <td>...</td>\n",
       "      <td>0.50362</td>\n",
       "      <td>0.18939</td>\n",
       "      <td>-0.14977</td>\n",
       "      <td>0.140970</td>\n",
       "      <td>1.66580</td>\n",
       "      <td>0.7062</td>\n",
       "      <td>-0.518300</td>\n",
       "      <td>0.63028</td>\n",
       "      <td>0.67819</td>\n",
       "      <td>0.38753</td>\n",
       "    </tr>\n",
       "    <tr>\n",
       "      <th>3</th>\n",
       "      <td>21</td>\n",
       "      <td>-0.000677</td>\n",
       "      <td>0.300840</td>\n",
       "      <td>0.47018</td>\n",
       "      <td>1.68840</td>\n",
       "      <td>1.13670</td>\n",
       "      <td>1.13270</td>\n",
       "      <td>0.808910</td>\n",
       "      <td>1.51580</td>\n",
       "      <td>-0.08339</td>\n",
       "      <td>...</td>\n",
       "      <td>0.52432</td>\n",
       "      <td>0.68222</td>\n",
       "      <td>0.36768</td>\n",
       "      <td>0.675500</td>\n",
       "      <td>1.16860</td>\n",
       "      <td>1.3229</td>\n",
       "      <td>0.822820</td>\n",
       "      <td>0.77615</td>\n",
       "      <td>1.11130</td>\n",
       "      <td>0.90024</td>\n",
       "    </tr>\n",
       "    <tr>\n",
       "      <th>4</th>\n",
       "      <td>13</td>\n",
       "      <td>0.199110</td>\n",
       "      <td>-0.461560</td>\n",
       "      <td>0.19674</td>\n",
       "      <td>-1.32980</td>\n",
       "      <td>0.51805</td>\n",
       "      <td>1.27910</td>\n",
       "      <td>0.408520</td>\n",
       "      <td>0.17056</td>\n",
       "      <td>-1.31570</td>\n",
       "      <td>...</td>\n",
       "      <td>1.01640</td>\n",
       "      <td>-0.16269</td>\n",
       "      <td>-1.87270</td>\n",
       "      <td>-0.728680</td>\n",
       "      <td>0.77347</td>\n",
       "      <td>1.1669</td>\n",
       "      <td>0.610710</td>\n",
       "      <td>-0.74036</td>\n",
       "      <td>0.53079</td>\n",
       "      <td>-0.36638</td>\n",
       "    </tr>\n",
       "    <tr>\n",
       "      <th>...</th>\n",
       "      <td>...</td>\n",
       "      <td>...</td>\n",
       "      <td>...</td>\n",
       "      <td>...</td>\n",
       "      <td>...</td>\n",
       "      <td>...</td>\n",
       "      <td>...</td>\n",
       "      <td>...</td>\n",
       "      <td>...</td>\n",
       "      <td>...</td>\n",
       "      <td>...</td>\n",
       "      <td>...</td>\n",
       "      <td>...</td>\n",
       "      <td>...</td>\n",
       "      <td>...</td>\n",
       "      <td>...</td>\n",
       "      <td>...</td>\n",
       "      <td>...</td>\n",
       "      <td>...</td>\n",
       "      <td>...</td>\n",
       "      <td>...</td>\n",
       "    </tr>\n",
       "    <tr>\n",
       "      <th>123035</th>\n",
       "      <td>24</td>\n",
       "      <td>0.744250</td>\n",
       "      <td>0.595200</td>\n",
       "      <td>1.15810</td>\n",
       "      <td>1.05870</td>\n",
       "      <td>0.59834</td>\n",
       "      <td>0.87438</td>\n",
       "      <td>0.808910</td>\n",
       "      <td>1.51580</td>\n",
       "      <td>0.39125</td>\n",
       "      <td>...</td>\n",
       "      <td>0.81531</td>\n",
       "      <td>0.57759</td>\n",
       "      <td>0.35237</td>\n",
       "      <td>0.132720</td>\n",
       "      <td>1.57630</td>\n",
       "      <td>1.3229</td>\n",
       "      <td>0.043685</td>\n",
       "      <td>0.68529</td>\n",
       "      <td>1.44130</td>\n",
       "      <td>0.29600</td>\n",
       "    </tr>\n",
       "    <tr>\n",
       "      <th>123036</th>\n",
       "      <td>7</td>\n",
       "      <td>-0.000677</td>\n",
       "      <td>-0.543990</td>\n",
       "      <td>0.87098</td>\n",
       "      <td>1.68840</td>\n",
       "      <td>0.14309</td>\n",
       "      <td>0.43380</td>\n",
       "      <td>-0.040783</td>\n",
       "      <td>0.64459</td>\n",
       "      <td>-0.08339</td>\n",
       "      <td>...</td>\n",
       "      <td>0.52432</td>\n",
       "      <td>0.69017</td>\n",
       "      <td>0.72517</td>\n",
       "      <td>0.035265</td>\n",
       "      <td>0.88875</td>\n",
       "      <td>1.5286</td>\n",
       "      <td>0.201630</td>\n",
       "      <td>0.11263</td>\n",
       "      <td>1.47490</td>\n",
       "      <td>0.90024</td>\n",
       "    </tr>\n",
       "    <tr>\n",
       "      <th>123037</th>\n",
       "      <td>19</td>\n",
       "      <td>1.264000</td>\n",
       "      <td>0.968200</td>\n",
       "      <td>0.93292</td>\n",
       "      <td>1.68840</td>\n",
       "      <td>1.54510</td>\n",
       "      <td>0.46053</td>\n",
       "      <td>0.162770</td>\n",
       "      <td>1.55270</td>\n",
       "      <td>0.66436</td>\n",
       "      <td>...</td>\n",
       "      <td>0.52432</td>\n",
       "      <td>0.72676</td>\n",
       "      <td>0.72517</td>\n",
       "      <td>0.412650</td>\n",
       "      <td>0.85194</td>\n",
       "      <td>1.5286</td>\n",
       "      <td>0.761460</td>\n",
       "      <td>0.63028</td>\n",
       "      <td>0.40924</td>\n",
       "      <td>0.90024</td>\n",
       "    </tr>\n",
       "    <tr>\n",
       "      <th>123038</th>\n",
       "      <td>13</td>\n",
       "      <td>0.199110</td>\n",
       "      <td>-0.461560</td>\n",
       "      <td>0.19674</td>\n",
       "      <td>-1.32980</td>\n",
       "      <td>0.51805</td>\n",
       "      <td>1.27910</td>\n",
       "      <td>0.408520</td>\n",
       "      <td>0.17056</td>\n",
       "      <td>-1.31570</td>\n",
       "      <td>...</td>\n",
       "      <td>1.01640</td>\n",
       "      <td>-0.16269</td>\n",
       "      <td>-1.87270</td>\n",
       "      <td>-0.728680</td>\n",
       "      <td>0.77347</td>\n",
       "      <td>1.1669</td>\n",
       "      <td>0.610710</td>\n",
       "      <td>-0.74036</td>\n",
       "      <td>0.53079</td>\n",
       "      <td>-0.36638</td>\n",
       "    </tr>\n",
       "    <tr>\n",
       "      <th>123039</th>\n",
       "      <td>13</td>\n",
       "      <td>0.199110</td>\n",
       "      <td>-0.461560</td>\n",
       "      <td>0.19674</td>\n",
       "      <td>-1.32980</td>\n",
       "      <td>0.51805</td>\n",
       "      <td>1.27910</td>\n",
       "      <td>0.408520</td>\n",
       "      <td>0.17056</td>\n",
       "      <td>-1.31570</td>\n",
       "      <td>...</td>\n",
       "      <td>1.01640</td>\n",
       "      <td>-0.16269</td>\n",
       "      <td>-1.87270</td>\n",
       "      <td>-0.728680</td>\n",
       "      <td>0.77347</td>\n",
       "      <td>1.1669</td>\n",
       "      <td>0.610710</td>\n",
       "      <td>-0.74036</td>\n",
       "      <td>0.53079</td>\n",
       "      <td>-0.36638</td>\n",
       "    </tr>\n",
       "  </tbody>\n",
       "</table>\n",
       "<p>123040 rows × 101 columns</p>\n",
       "</div>"
      ],
      "text/plain": [
       "        category         0         1        2        3        4        5  \\\n",
       "0             24  0.744250  0.314920  1.15810  1.82440  1.57700  0.45372   \n",
       "1             13  0.199110 -0.461560  0.19674 -1.32980  0.51805  1.27910   \n",
       "2             24  1.264000  0.093259  1.15810  0.46354  1.54510  0.91477   \n",
       "3             21 -0.000677  0.300840  0.47018  1.68840  1.13670  1.13270   \n",
       "4             13  0.199110 -0.461560  0.19674 -1.32980  0.51805  1.27910   \n",
       "...          ...       ...       ...      ...      ...      ...      ...   \n",
       "123035        24  0.744250  0.595200  1.15810  1.05870  0.59834  0.87438   \n",
       "123036         7 -0.000677 -0.543990  0.87098  1.68840  0.14309  0.43380   \n",
       "123037        19  1.264000  0.968200  0.93292  1.68840  1.54510  0.46053   \n",
       "123038        13  0.199110 -0.461560  0.19674 -1.32980  0.51805  1.27910   \n",
       "123039        13  0.199110 -0.461560  0.19674 -1.32980  0.51805  1.27910   \n",
       "\n",
       "               6        7        8  ...       90       91       92        93  \\\n",
       "0       0.680690  1.55550  0.39125  ...  0.81531  0.41734  0.39693  0.412650   \n",
       "1       0.408520  0.17056 -1.31570  ...  1.01640 -0.16269 -1.87270 -0.728680   \n",
       "2       0.556690  1.55270  0.39125  ...  0.50362  0.18939 -0.14977  0.140970   \n",
       "3       0.808910  1.51580 -0.08339  ...  0.52432  0.68222  0.36768  0.675500   \n",
       "4       0.408520  0.17056 -1.31570  ...  1.01640 -0.16269 -1.87270 -0.728680   \n",
       "...          ...      ...      ...  ...      ...      ...      ...       ...   \n",
       "123035  0.808910  1.51580  0.39125  ...  0.81531  0.57759  0.35237  0.132720   \n",
       "123036 -0.040783  0.64459 -0.08339  ...  0.52432  0.69017  0.72517  0.035265   \n",
       "123037  0.162770  1.55270  0.66436  ...  0.52432  0.72676  0.72517  0.412650   \n",
       "123038  0.408520  0.17056 -1.31570  ...  1.01640 -0.16269 -1.87270 -0.728680   \n",
       "123039  0.408520  0.17056 -1.31570  ...  1.01640 -0.16269 -1.87270 -0.728680   \n",
       "\n",
       "             94      95        96       97       98       99  \n",
       "0       0.46879  1.4985  0.192890  0.62702  0.65401  0.73385  \n",
       "1       0.77347  1.1669  0.610710 -0.74036  0.53079 -0.36638  \n",
       "2       1.66580  0.7062 -0.518300  0.63028  0.67819  0.38753  \n",
       "3       1.16860  1.3229  0.822820  0.77615  1.11130  0.90024  \n",
       "4       0.77347  1.1669  0.610710 -0.74036  0.53079 -0.36638  \n",
       "...         ...     ...       ...      ...      ...      ...  \n",
       "123035  1.57630  1.3229  0.043685  0.68529  1.44130  0.29600  \n",
       "123036  0.88875  1.5286  0.201630  0.11263  1.47490  0.90024  \n",
       "123037  0.85194  1.5286  0.761460  0.63028  0.40924  0.90024  \n",
       "123038  0.77347  1.1669  0.610710 -0.74036  0.53079 -0.36638  \n",
       "123039  0.77347  1.1669  0.610710 -0.74036  0.53079 -0.36638  \n",
       "\n",
       "[123040 rows x 101 columns]"
      ]
     },
     "execution_count": 75,
     "metadata": {},
     "output_type": "execute_result"
    }
   ],
   "source": [
    "new_data = pd.concat([Category,word_vec_df], join = 'outer', axis = 1)\n",
    "new_data"
   ]
  },
  {
   "cell_type": "markdown",
   "id": "4bcc9968",
   "metadata": {},
   "source": [
    "**The term payload has two meanings: \n",
    "data payload, which is related to the transport of data across a network, and malware payload, which refers to malicious code used to exploit and compromise IT networks and systems.**"
   ]
  },
  {
   "cell_type": "markdown",
   "id": "178abe4d",
   "metadata": {},
   "source": [
    "**Data visualization and statistical analysis**"
   ]
  },
  {
   "cell_type": "code",
   "execution_count": 12,
   "id": "f0154f68",
   "metadata": {},
   "outputs": [
    {
     "data": {
      "text/plain": [
       "category    0\n",
       "0           0\n",
       "1           0\n",
       "2           0\n",
       "3           0\n",
       "           ..\n",
       "95          0\n",
       "96          0\n",
       "97          0\n",
       "98          0\n",
       "99          0\n",
       "Length: 101, dtype: int64"
      ]
     },
     "execution_count": 12,
     "metadata": {},
     "output_type": "execute_result"
    }
   ],
   "source": [
    "new_data.isnull().sum()"
   ]
  },
  {
   "cell_type": "code",
   "execution_count": 13,
   "id": "fe90942d",
   "metadata": {},
   "outputs": [
    {
     "data": {
      "text/plain": [
       "category   -0.054052\n",
       "0           0.374482\n",
       "1           0.500825\n",
       "2           0.401591\n",
       "3          -0.064100\n",
       "              ...   \n",
       "95         -1.277452\n",
       "96         -0.524487\n",
       "97         -0.019922\n",
       "98          1.546084\n",
       "99          0.272629\n",
       "Length: 101, dtype: float64"
      ]
     },
     "execution_count": 13,
     "metadata": {},
     "output_type": "execute_result"
    }
   ],
   "source": [
    "new_data.skew()"
   ]
  },
  {
   "cell_type": "markdown",
   "id": "c8f5b87c",
   "metadata": {},
   "source": [
    "**Visualize the distribution of features**"
   ]
  },
  {
   "cell_type": "code",
   "execution_count": 14,
   "id": "c4d750e1",
   "metadata": {},
   "outputs": [
    {
     "data": {
      "image/png": "[encoded data removed]",
      "text/plain": [
       "<Figure size 432x288 with 1 Axes>"
      ]
     },
     "metadata": {
      "needs_background": "light"
     },
     "output_type": "display_data"
    }
   ],
   "source": [
    "new_data.plot.hist(alpha=0.5, bins=15, grid=True, legend=None)\n",
    "plt.xlabel(\"Feature value\")\n",
    "plt.title(\"Histogram\")\n",
    "plt.show()"
   ]
  },
  {
   "cell_type": "markdown",
   "id": "1b9f3f64",
   "metadata": {},
   "source": [
    "**Check the balance of target**"
   ]
  },
  {
   "cell_type": "code",
   "execution_count": 15,
   "id": "fdb5f6f2",
   "metadata": {},
   "outputs": [
    {
     "data": {
      "text/plain": [
       "1    61520\n",
       "0    61520\n",
       "Name: label, dtype: int64"
      ]
     },
     "execution_count": 15,
     "metadata": {},
     "output_type": "execute_result"
    },
    {
     "data": {
      "image/png": "[encoded data removed]",
      "text/plain": [
       "<Figure size 360x360 with 1 Axes>"
      ]
     },
     "metadata": {
      "needs_background": "light"
     },
     "output_type": "display_data"
    }
   ],
   "source": [
    "sns.catplot(x='label', data=Data, kind='count')\n",
    "plt.title('distribution of target variable')\n",
    "y.value_counts()\n"
   ]
  },
  {
   "cell_type": "markdown",
   "id": "34ed3e3e",
   "metadata": {},
   "source": [
    "The target is balance\n",
    "\n",
    "malicious(label:1) \n",
    "\n",
    "benign(label:0) "
   ]
  },
  {
   "cell_type": "markdown",
   "id": "25fe87f0",
   "metadata": {},
   "source": [
    "**Data Normalization**"
   ]
  },
  {
   "cell_type": "code",
   "execution_count": 76,
   "id": "7d8c44ae",
   "metadata": {},
   "outputs": [
    {
     "data": {
      "text/html": [
       "<div>\n",
       "<style scoped>\n",
       "    .dataframe tbody tr th:only-of-type {\n",
       "        vertical-align: middle;\n",
       "    }\n",
       "\n",
       "    .dataframe tbody tr th {\n",
       "        vertical-align: top;\n",
       "    }\n",
       "\n",
       "    .dataframe thead th {\n",
       "        text-align: right;\n",
       "    }\n",
       "</style>\n",
       "<table border=\"1\" class=\"dataframe\">\n",
       "  <thead>\n",
       "    <tr style=\"text-align: right;\">\n",
       "      <th></th>\n",
       "      <th>0</th>\n",
       "      <th>1</th>\n",
       "      <th>2</th>\n",
       "      <th>3</th>\n",
       "      <th>4</th>\n",
       "      <th>5</th>\n",
       "      <th>6</th>\n",
       "      <th>7</th>\n",
       "      <th>8</th>\n",
       "      <th>9</th>\n",
       "      <th>...</th>\n",
       "      <th>91</th>\n",
       "      <th>92</th>\n",
       "      <th>93</th>\n",
       "      <th>94</th>\n",
       "      <th>95</th>\n",
       "      <th>96</th>\n",
       "      <th>97</th>\n",
       "      <th>98</th>\n",
       "      <th>99</th>\n",
       "      <th>100</th>\n",
       "    </tr>\n",
       "  </thead>\n",
       "  <tbody>\n",
       "    <tr>\n",
       "      <th>0</th>\n",
       "      <td>1.000000</td>\n",
       "      <td>0.733528</td>\n",
       "      <td>0.540308</td>\n",
       "      <td>0.754036</td>\n",
       "      <td>0.753224</td>\n",
       "      <td>0.728610</td>\n",
       "      <td>0.588760</td>\n",
       "      <td>0.595507</td>\n",
       "      <td>0.761664</td>\n",
       "      <td>0.390327</td>\n",
       "      <td>...</td>\n",
       "      <td>0.554695</td>\n",
       "      <td>0.525032</td>\n",
       "      <td>0.693186</td>\n",
       "      <td>0.332061</td>\n",
       "      <td>0.315236</td>\n",
       "      <td>0.794513</td>\n",
       "      <td>0.526078</td>\n",
       "      <td>0.436351</td>\n",
       "      <td>0.485904</td>\n",
       "      <td>0.729929</td>\n",
       "    </tr>\n",
       "    <tr>\n",
       "      <th>1</th>\n",
       "      <td>0.541667</td>\n",
       "      <td>0.578173</td>\n",
       "      <td>0.356059</td>\n",
       "      <td>0.477894</td>\n",
       "      <td>0.000000</td>\n",
       "      <td>0.447490</td>\n",
       "      <td>0.842239</td>\n",
       "      <td>0.504583</td>\n",
       "      <td>0.333210</td>\n",
       "      <td>0.002296</td>\n",
       "      <td>...</td>\n",
       "      <td>0.601566</td>\n",
       "      <td>0.354696</td>\n",
       "      <td>0.000000</td>\n",
       "      <td>0.035564</td>\n",
       "      <td>0.398666</td>\n",
       "      <td>0.687862</td>\n",
       "      <td>0.659053</td>\n",
       "      <td>0.044540</td>\n",
       "      <td>0.452656</td>\n",
       "      <td>0.347040</td>\n",
       "    </tr>\n",
       "    <tr>\n",
       "      <th>2</th>\n",
       "      <td>1.000000</td>\n",
       "      <td>0.881647</td>\n",
       "      <td>0.487711</td>\n",
       "      <td>0.754036</td>\n",
       "      <td>0.428250</td>\n",
       "      <td>0.720141</td>\n",
       "      <td>0.730351</td>\n",
       "      <td>0.554082</td>\n",
       "      <td>0.760798</td>\n",
       "      <td>0.390327</td>\n",
       "      <td>...</td>\n",
       "      <td>0.482046</td>\n",
       "      <td>0.458091</td>\n",
       "      <td>0.526214</td>\n",
       "      <td>0.261484</td>\n",
       "      <td>0.643011</td>\n",
       "      <td>0.539689</td>\n",
       "      <td>0.299736</td>\n",
       "      <td>0.437285</td>\n",
       "      <td>0.492429</td>\n",
       "      <td>0.609407</td>\n",
       "    </tr>\n",
       "    <tr>\n",
       "      <th>3</th>\n",
       "      <td>0.875000</td>\n",
       "      <td>0.521238</td>\n",
       "      <td>0.536967</td>\n",
       "      <td>0.556437</td>\n",
       "      <td>0.720747</td>\n",
       "      <td>0.611723</td>\n",
       "      <td>0.797279</td>\n",
       "      <td>0.638341</td>\n",
       "      <td>0.749382</td>\n",
       "      <td>0.282430</td>\n",
       "      <td>...</td>\n",
       "      <td>0.486870</td>\n",
       "      <td>0.602819</td>\n",
       "      <td>0.684253</td>\n",
       "      <td>0.400345</td>\n",
       "      <td>0.506863</td>\n",
       "      <td>0.738036</td>\n",
       "      <td>0.726559</td>\n",
       "      <td>0.479082</td>\n",
       "      <td>0.609293</td>\n",
       "      <td>0.787834</td>\n",
       "    </tr>\n",
       "    <tr>\n",
       "      <th>4</th>\n",
       "      <td>0.541667</td>\n",
       "      <td>0.578173</td>\n",
       "      <td>0.356059</td>\n",
       "      <td>0.477894</td>\n",
       "      <td>0.000000</td>\n",
       "      <td>0.447490</td>\n",
       "      <td>0.842239</td>\n",
       "      <td>0.504583</td>\n",
       "      <td>0.333210</td>\n",
       "      <td>0.002296</td>\n",
       "      <td>...</td>\n",
       "      <td>0.601566</td>\n",
       "      <td>0.354696</td>\n",
       "      <td>0.000000</td>\n",
       "      <td>0.035564</td>\n",
       "      <td>0.398666</td>\n",
       "      <td>0.687862</td>\n",
       "      <td>0.659053</td>\n",
       "      <td>0.044540</td>\n",
       "      <td>0.452656</td>\n",
       "      <td>0.347040</td>\n",
       "    </tr>\n",
       "    <tr>\n",
       "      <th>...</th>\n",
       "      <td>...</td>\n",
       "      <td>...</td>\n",
       "      <td>...</td>\n",
       "      <td>...</td>\n",
       "      <td>...</td>\n",
       "      <td>...</td>\n",
       "      <td>...</td>\n",
       "      <td>...</td>\n",
       "      <td>...</td>\n",
       "      <td>...</td>\n",
       "      <td>...</td>\n",
       "      <td>...</td>\n",
       "      <td>...</td>\n",
       "      <td>...</td>\n",
       "      <td>...</td>\n",
       "      <td>...</td>\n",
       "      <td>...</td>\n",
       "      <td>...</td>\n",
       "      <td>...</td>\n",
       "      <td>...</td>\n",
       "      <td>...</td>\n",
       "    </tr>\n",
       "    <tr>\n",
       "      <th>123035</th>\n",
       "      <td>1.000000</td>\n",
       "      <td>0.733528</td>\n",
       "      <td>0.606815</td>\n",
       "      <td>0.754036</td>\n",
       "      <td>0.570374</td>\n",
       "      <td>0.468805</td>\n",
       "      <td>0.717947</td>\n",
       "      <td>0.638341</td>\n",
       "      <td>0.749382</td>\n",
       "      <td>0.390327</td>\n",
       "      <td>...</td>\n",
       "      <td>0.554695</td>\n",
       "      <td>0.572093</td>\n",
       "      <td>0.679577</td>\n",
       "      <td>0.259340</td>\n",
       "      <td>0.618503</td>\n",
       "      <td>0.738036</td>\n",
       "      <td>0.478592</td>\n",
       "      <td>0.453047</td>\n",
       "      <td>0.698335</td>\n",
       "      <td>0.577554</td>\n",
       "    </tr>\n",
       "    <tr>\n",
       "      <th>123036</th>\n",
       "      <td>0.291667</td>\n",
       "      <td>0.521238</td>\n",
       "      <td>0.336500</td>\n",
       "      <td>0.671563</td>\n",
       "      <td>0.720747</td>\n",
       "      <td>0.347949</td>\n",
       "      <td>0.582642</td>\n",
       "      <td>0.354486</td>\n",
       "      <td>0.479859</td>\n",
       "      <td>0.282430</td>\n",
       "      <td>...</td>\n",
       "      <td>0.486870</td>\n",
       "      <td>0.605154</td>\n",
       "      <td>0.793437</td>\n",
       "      <td>0.234023</td>\n",
       "      <td>0.430233</td>\n",
       "      <td>0.804194</td>\n",
       "      <td>0.528860</td>\n",
       "      <td>0.288957</td>\n",
       "      <td>0.707401</td>\n",
       "      <td>0.787834</td>\n",
       "    </tr>\n",
       "    <tr>\n",
       "      <th>123037</th>\n",
       "      <td>0.791667</td>\n",
       "      <td>0.881647</td>\n",
       "      <td>0.695323</td>\n",
       "      <td>0.689355</td>\n",
       "      <td>0.720747</td>\n",
       "      <td>0.720141</td>\n",
       "      <td>0.590851</td>\n",
       "      <td>0.422486</td>\n",
       "      <td>0.760798</td>\n",
       "      <td>0.452412</td>\n",
       "      <td>...</td>\n",
       "      <td>0.486870</td>\n",
       "      <td>0.615899</td>\n",
       "      <td>0.793437</td>\n",
       "      <td>0.332061</td>\n",
       "      <td>0.420153</td>\n",
       "      <td>0.804194</td>\n",
       "      <td>0.707030</td>\n",
       "      <td>0.437285</td>\n",
       "      <td>0.419859</td>\n",
       "      <td>0.787834</td>\n",
       "    </tr>\n",
       "    <tr>\n",
       "      <th>123038</th>\n",
       "      <td>0.541667</td>\n",
       "      <td>0.578173</td>\n",
       "      <td>0.356059</td>\n",
       "      <td>0.477894</td>\n",
       "      <td>0.000000</td>\n",
       "      <td>0.447490</td>\n",
       "      <td>0.842239</td>\n",
       "      <td>0.504583</td>\n",
       "      <td>0.333210</td>\n",
       "      <td>0.002296</td>\n",
       "      <td>...</td>\n",
       "      <td>0.601566</td>\n",
       "      <td>0.354696</td>\n",
       "      <td>0.000000</td>\n",
       "      <td>0.035564</td>\n",
       "      <td>0.398666</td>\n",
       "      <td>0.687862</td>\n",
       "      <td>0.659053</td>\n",
       "      <td>0.044540</td>\n",
       "      <td>0.452656</td>\n",
       "      <td>0.347040</td>\n",
       "    </tr>\n",
       "    <tr>\n",
       "      <th>123039</th>\n",
       "      <td>0.541667</td>\n",
       "      <td>0.578173</td>\n",
       "      <td>0.356059</td>\n",
       "      <td>0.477894</td>\n",
       "      <td>0.000000</td>\n",
       "      <td>0.447490</td>\n",
       "      <td>0.842239</td>\n",
       "      <td>0.504583</td>\n",
       "      <td>0.333210</td>\n",
       "      <td>0.002296</td>\n",
       "      <td>...</td>\n",
       "      <td>0.601566</td>\n",
       "      <td>0.354696</td>\n",
       "      <td>0.000000</td>\n",
       "      <td>0.035564</td>\n",
       "      <td>0.398666</td>\n",
       "      <td>0.687862</td>\n",
       "      <td>0.659053</td>\n",
       "      <td>0.044540</td>\n",
       "      <td>0.452656</td>\n",
       "      <td>0.347040</td>\n",
       "    </tr>\n",
       "  </tbody>\n",
       "</table>\n",
       "<p>123040 rows × 101 columns</p>\n",
       "</div>"
      ],
      "text/plain": [
       "             0         1         2         3         4         5         6    \\\n",
       "0       1.000000  0.733528  0.540308  0.754036  0.753224  0.728610  0.588760   \n",
       "1       0.541667  0.578173  0.356059  0.477894  0.000000  0.447490  0.842239   \n",
       "2       1.000000  0.881647  0.487711  0.754036  0.428250  0.720141  0.730351   \n",
       "3       0.875000  0.521238  0.536967  0.556437  0.720747  0.611723  0.797279   \n",
       "4       0.541667  0.578173  0.356059  0.477894  0.000000  0.447490  0.842239   \n",
       "...          ...       ...       ...       ...       ...       ...       ...   \n",
       "123035  1.000000  0.733528  0.606815  0.754036  0.570374  0.468805  0.717947   \n",
       "123036  0.291667  0.521238  0.336500  0.671563  0.720747  0.347949  0.582642   \n",
       "123037  0.791667  0.881647  0.695323  0.689355  0.720747  0.720141  0.590851   \n",
       "123038  0.541667  0.578173  0.356059  0.477894  0.000000  0.447490  0.842239   \n",
       "123039  0.541667  0.578173  0.356059  0.477894  0.000000  0.447490  0.842239   \n",
       "\n",
       "             7         8         9    ...       91        92        93   \\\n",
       "0       0.595507  0.761664  0.390327  ...  0.554695  0.525032  0.693186   \n",
       "1       0.504583  0.333210  0.002296  ...  0.601566  0.354696  0.000000   \n",
       "2       0.554082  0.760798  0.390327  ...  0.482046  0.458091  0.526214   \n",
       "3       0.638341  0.749382  0.282430  ...  0.486870  0.602819  0.684253   \n",
       "4       0.504583  0.333210  0.002296  ...  0.601566  0.354696  0.000000   \n",
       "...          ...       ...       ...  ...       ...       ...       ...   \n",
       "123035  0.638341  0.749382  0.390327  ...  0.554695  0.572093  0.679577   \n",
       "123036  0.354486  0.479859  0.282430  ...  0.486870  0.605154  0.793437   \n",
       "123037  0.422486  0.760798  0.452412  ...  0.486870  0.615899  0.793437   \n",
       "123038  0.504583  0.333210  0.002296  ...  0.601566  0.354696  0.000000   \n",
       "123039  0.504583  0.333210  0.002296  ...  0.601566  0.354696  0.000000   \n",
       "\n",
       "             94        95        96        97        98        99        100  \n",
       "0       0.332061  0.315236  0.794513  0.526078  0.436351  0.485904  0.729929  \n",
       "1       0.035564  0.398666  0.687862  0.659053  0.044540  0.452656  0.347040  \n",
       "2       0.261484  0.643011  0.539689  0.299736  0.437285  0.492429  0.609407  \n",
       "3       0.400345  0.506863  0.738036  0.726559  0.479082  0.609293  0.787834  \n",
       "4       0.035564  0.398666  0.687862  0.659053  0.044540  0.452656  0.347040  \n",
       "...          ...       ...       ...       ...       ...       ...       ...  \n",
       "123035  0.259340  0.618503  0.738036  0.478592  0.453047  0.698335  0.577554  \n",
       "123036  0.234023  0.430233  0.804194  0.528860  0.288957  0.707401  0.787834  \n",
       "123037  0.332061  0.420153  0.804194  0.707030  0.437285  0.419859  0.787834  \n",
       "123038  0.035564  0.398666  0.687862  0.659053  0.044540  0.452656  0.347040  \n",
       "123039  0.035564  0.398666  0.687862  0.659053  0.044540  0.452656  0.347040  \n",
       "\n",
       "[123040 rows x 101 columns]"
      ]
     },
     "execution_count": 76,
     "metadata": {},
     "output_type": "execute_result"
    }
   ],
   "source": [
    "from sklearn.preprocessing import MinMaxScaler\n",
    "\n",
    "scaler = MinMaxScaler() \n",
    "scaler.fit(new_data)\n",
    "scaled_data= scaler.transform(new_data)\n",
    "scaled_data= pd.DataFrame(scaled_data)\n",
    "scaled_data"
   ]
  },
  {
   "cell_type": "code",
   "execution_count": 77,
   "id": "48061432",
   "metadata": {},
   "outputs": [
    {
     "data": {
      "image/png": "[encoded data removed]",
      "text/plain": [
       "<Figure size 432x288 with 1 Axes>"
      ]
     },
     "metadata": {
      "needs_background": "light"
     },
     "output_type": "display_data"
    }
   ],
   "source": [
    "scaled_data.plot.hist(alpha=0.5, bins=15, grid=True, legend=None)\n",
    "plt.xlabel(\"Feature value\")\n",
    "plt.title(\"Histogram\")\n",
    "plt.show()"
   ]
  },
  {
   "cell_type": "markdown",
   "id": "8b807e61",
   "metadata": {},
   "source": [
    "**Models comparining**"
   ]
  },
  {
   "cell_type": "code",
   "execution_count": 14,
   "id": "6e8f4529",
   "metadata": {},
   "outputs": [],
   "source": [
    "from sklearn.ensemble import AdaBoostClassifier\n",
    "from sklearn.neural_network import MLPClassifier\n",
    "from sklearn.naive_bayes import GaussianNB\n",
    "from sklearn.ensemble import RandomForestClassifier\n",
    "from sklearn.model_selection import cross_val_score\n",
    "from sklearn.metrics import confusion_matrix, ConfusionMatrixDisplay\n",
    "from sklearn.model_selection import train_test_split\n",
    "from sklearn.model_selection import RandomizedSearchCV,GridSearchCV\n",
    "from sklearn.ensemble import IsolationForest\n",
    "from sklearn.svm import SVC\n",
    "from sklearn.linear_model import LogisticRegression\n",
    "from sklearn.tree import DecisionTreeClassifier\n",
    "from sklearn.model_selection import cross_val_predict\n",
    "from sklearn.metrics import mean_squared_error\n",
    "from sklearn.metrics import classification_report, accuracy_score, make_scorer"
   ]
  },
  {
   "cell_type": "code",
   "execution_count": 15,
   "id": "7dfa428e",
   "metadata": {},
   "outputs": [],
   "source": [
    "models = [SVC(random_state=0), \n",
    "          RandomForestClassifier(random_state=0),\n",
    "          LogisticRegression(random_state=0),\n",
    "          DecisionTreeClassifier(random_state=0),\n",
    "           AdaBoostClassifier( random_state=0),\n",
    "          MLPClassifier(max_iter=300,random_state=0),\n",
    "          GaussianNB()]"
   ]
  },
  {
   "cell_type": "markdown",
   "id": "95b2a911",
   "metadata": {},
   "source": [
    "Isolation Forest model"
   ]
  },
  {
   "cell_type": "code",
   "execution_count": 104,
   "id": "7a9da0c9",
   "metadata": {},
   "outputs": [],
   "source": [
    "all_accuracy = cross_val_score(IsolationForest(n_estimators=100,random_state=0), scaled_data, y, cv=5,scoring='accuracy')\n",
    "y_pred_iso = cross_val_predict(IsolationForest(n_estimators=100,random_state=0), scaled_data, y, cv=5)\n",
    "# 1==mal , -1=ben\n"
   ]
  },
  {
   "cell_type": "code",
   "execution_count": 105,
   "id": "42dcf6de",
   "metadata": {},
   "outputs": [
    {
     "name": "stdout",
     "output_type": "stream",
     "text": [
      "accuracy of IsolationForest = \n",
      " [0.40076398 0.38682542 0.39800065 0.41571847 0.38796326]\n",
      "Avg accuracy of IsolationForest = \n",
      " 39.79\n",
      "              precision    recall  f1-score   support\n",
      "\n",
      "           0       0.62      0.33      0.43     61520\n",
      "           1       0.54      0.80      0.65     61520\n",
      "\n",
      "    accuracy                           0.56    123040\n",
      "   macro avg       0.58      0.56      0.54    123040\n",
      "weighted avg       0.58      0.56      0.54    123040\n",
      "\n"
     ]
    },
    {
     "data": {
      "image/png": "[encoded data removed]",
      "text/plain": [
       "<Figure size 432x288 with 2 Axes>"
      ]
     },
     "metadata": {
      "needs_background": "light"
     },
     "output_type": "display_data"
    }
   ],
   "source": [
    "y_pred_iso = [1 if i== 1 else 0 for i in y_pred_iso ]\n",
    "avg_accuracy = round((sum(all_accuracy)/len(all_accuracy))*100 ,2)\n",
    "conf_mat = confusion_matrix(y, y_pred_iso)\n",
    "print('accuracy of IsolationForest','= \\n',all_accuracy)\n",
    "print('Avg accuracy of IsolationForest','= \\n',avg_accuracy)\n",
    "print(classification_report(y, y_pred_iso))\n",
    "\n",
    "disp = ConfusionMatrixDisplay(confusion_matrix=conf_mat)\n",
    "disp.plot()\n",
    "plt.show()"
   ]
  },
  {
   "cell_type": "code",
   "execution_count": 106,
   "id": "ce19cd7c",
   "metadata": {},
   "outputs": [
    {
     "data": {
      "text/plain": [
       "53633"
      ]
     },
     "execution_count": 106,
     "metadata": {},
     "output_type": "execute_result"
    }
   ],
   "source": [
    "number_of_errors=(y_pred_iso!=y).sum()\n",
    "number_of_errors\n"
   ]
  },
  {
   "cell_type": "code",
   "execution_count": 103,
   "id": "afd8913f",
   "metadata": {},
   "outputs": [],
   "source": [
    "def models_cross_val(model,x,y):\n",
    "      \n",
    "    all_accuracy = cross_val_score(model, x, y, cv=5)\n",
    "    y_pred = cross_val_predict(model, x, y, cv=5)\n",
    "    avg_accuracy = round((sum(all_accuracy)/len(all_accuracy))*100 ,2)\n",
    "    conf_mat = confusion_matrix(y, y_pred)\n",
    "    print('accuracy of ',model,'= \\n',all_accuracy)\n",
    "    print('Avg accuracy of',model,'= \\n',avg_accuracy)\n",
    "    print(classification_report(y, y_pred))\n",
    "\n",
    "    disp = ConfusionMatrixDisplay(confusion_matrix=conf_mat)\n",
    "    disp.plot()\n",
    "    plt.show()"
   ]
  },
  {
   "cell_type": "code",
   "execution_count": 108,
   "id": "af5274a6",
   "metadata": {
    "scrolled": false
   },
   "outputs": [
    {
     "name": "stdout",
     "output_type": "stream",
     "text": [
      "accuracy of  SVC(random_state=0) = \n",
      " [0.78767068 0.78807705 0.78876788 0.79222204 0.79242523]\n",
      "Avg accuracy of SVC(random_state=0) = \n",
      " 78.98\n",
      "              precision    recall  f1-score   support\n",
      "\n",
      "           0       0.81      0.75      0.78     61520\n",
      "           1       0.77      0.83      0.80     61520\n",
      "\n",
      "    accuracy                           0.79    123040\n",
      "   macro avg       0.79      0.79      0.79    123040\n",
      "weighted avg       0.79      0.79      0.79    123040\n",
      "\n"
     ]
    },
    {
     "data": {
      "image/png": "[encoded data removed]",
      "text/plain": [
       "<Figure size 432x288 with 2 Axes>"
      ]
     },
     "metadata": {
      "needs_background": "light"
     },
     "output_type": "display_data"
    }
   ],
   "source": [
    "models_cross_val(SVC(random_state=0), scaled_data, y)"
   ]
  },
  {
   "cell_type": "code",
   "execution_count": 109,
   "id": "c4c3b227",
   "metadata": {},
   "outputs": [
    {
     "name": "stdout",
     "output_type": "stream",
     "text": [
      "accuracy of  RandomForestClassifier(random_state=0) = \n",
      " [0.79693596 0.79734233 0.79746424 0.79929291 0.80083713]\n",
      "Avg accuracy of RandomForestClassifier(random_state=0) = \n",
      " 79.84\n",
      "              precision    recall  f1-score   support\n",
      "\n",
      "           0       0.83      0.75      0.79     61520\n",
      "           1       0.77      0.84      0.81     61520\n",
      "\n",
      "    accuracy                           0.80    123040\n",
      "   macro avg       0.80      0.80      0.80    123040\n",
      "weighted avg       0.80      0.80      0.80    123040\n",
      "\n"
     ]
    },
    {
     "data": {
      "image/png": "[encoded data removed]",
      "text/plain": [
       "<Figure size 432x288 with 2 Axes>"
      ]
     },
     "metadata": {
      "needs_background": "light"
     },
     "output_type": "display_data"
    }
   ],
   "source": [
    "models_cross_val(RandomForestClassifier(random_state=0), scaled_data, y)"
   ]
  },
  {
   "cell_type": "code",
   "execution_count": 110,
   "id": "28d79eb5",
   "metadata": {},
   "outputs": [
    {
     "name": "stdout",
     "output_type": "stream",
     "text": [
      "accuracy of  LogisticRegression(max_iter=1000, random_state=0) = \n",
      " [0.77320384 0.77080624 0.77113134 0.77361021 0.77381339]\n",
      "Avg accuracy of LogisticRegression(max_iter=1000, random_state=0) = \n",
      " 77.25\n",
      "              precision    recall  f1-score   support\n",
      "\n",
      "           0       0.80      0.73      0.76     61520\n",
      "           1       0.75      0.81      0.78     61520\n",
      "\n",
      "    accuracy                           0.77    123040\n",
      "   macro avg       0.77      0.77      0.77    123040\n",
      "weighted avg       0.77      0.77      0.77    123040\n",
      "\n"
     ]
    },
    {
     "data": {
      "image/png": "[encoded data removed]",
      "text/plain": [
       "<Figure size 432x288 with 2 Axes>"
      ]
     },
     "metadata": {
      "needs_background": "light"
     },
     "output_type": "display_data"
    }
   ],
   "source": [
    "models_cross_val( LogisticRegression(max_iter=1000,random_state=0), scaled_data, y)"
   ]
  },
  {
   "cell_type": "code",
   "execution_count": 111,
   "id": "7a633910",
   "metadata": {},
   "outputs": [
    {
     "name": "stdout",
     "output_type": "stream",
     "text": [
      "accuracy of  DecisionTreeClassifier(random_state=0) = \n",
      " [0.79514792 0.79547302 0.79612321 0.79762679 0.7994961 ]\n",
      "Avg accuracy of DecisionTreeClassifier(random_state=0) = \n",
      " 79.68\n",
      "              precision    recall  f1-score   support\n",
      "\n",
      "           0       0.83      0.75      0.79     61520\n",
      "           1       0.77      0.84      0.81     61520\n",
      "\n",
      "    accuracy                           0.80    123040\n",
      "   macro avg       0.80      0.80      0.80    123040\n",
      "weighted avg       0.80      0.80      0.80    123040\n",
      "\n"
     ]
    },
    {
     "data": {
      "image/png": "[encoded data removed]",
      "text/plain": [
       "<Figure size 432x288 with 2 Axes>"
      ]
     },
     "metadata": {
      "needs_background": "light"
     },
     "output_type": "display_data"
    }
   ],
   "source": [
    "models_cross_val(DecisionTreeClassifier(random_state=0), scaled_data, y)"
   ]
  },
  {
   "cell_type": "code",
   "execution_count": 112,
   "id": "c6f19bb2",
   "metadata": {},
   "outputs": [
    {
     "name": "stdout",
     "output_type": "stream",
     "text": [
      "accuracy of  AdaBoostClassifier(random_state=0) = \n",
      " [0.77885241 0.77080624 0.77206599 0.77361021 0.77706437]\n",
      "Avg accuracy of AdaBoostClassifier(random_state=0) = \n",
      " 77.45\n",
      "              precision    recall  f1-score   support\n",
      "\n",
      "           0       0.76      0.81      0.78     61520\n",
      "           1       0.79      0.74      0.77     61520\n",
      "\n",
      "    accuracy                           0.77    123040\n",
      "   macro avg       0.78      0.77      0.77    123040\n",
      "weighted avg       0.78      0.77      0.77    123040\n",
      "\n"
     ]
    },
    {
     "data": {
      "image/png": "[encoded data removed]",
      "text/plain": [
       "<Figure size 432x288 with 2 Axes>"
      ]
     },
     "metadata": {
      "needs_background": "light"
     },
     "output_type": "display_data"
    }
   ],
   "source": [
    "models_cross_val(AdaBoostClassifier( random_state=0), scaled_data, y)"
   ]
  },
  {
   "cell_type": "code",
   "execution_count": 113,
   "id": "672aa9f2",
   "metadata": {},
   "outputs": [
    {
     "name": "stdout",
     "output_type": "stream",
     "text": [
      "accuracy of  MLPClassifier(max_iter=300, random_state=0) = \n",
      " [0.79478218 0.78978381 0.79624512 0.79327861 0.79543238]\n",
      "Avg accuracy of MLPClassifier(max_iter=300, random_state=0) = \n",
      " 79.39\n",
      "              precision    recall  f1-score   support\n",
      "\n",
      "           0       0.82      0.76      0.79     61520\n",
      "           1       0.77      0.83      0.80     61520\n",
      "\n",
      "    accuracy                           0.79    123040\n",
      "   macro avg       0.80      0.79      0.79    123040\n",
      "weighted avg       0.80      0.79      0.79    123040\n",
      "\n"
     ]
    },
    {
     "data": {
      "image/png": "[encoded data removed]",
      "text/plain": [
       "<Figure size 432x288 with 2 Axes>"
      ]
     },
     "metadata": {
      "needs_background": "light"
     },
     "output_type": "display_data"
    }
   ],
   "source": [
    "models_cross_val(MLPClassifier(max_iter=300,random_state=0), scaled_data, y)"
   ]
  },
  {
   "cell_type": "code",
   "execution_count": 114,
   "id": "baad13d9",
   "metadata": {},
   "outputs": [
    {
     "name": "stdout",
     "output_type": "stream",
     "text": [
      "accuracy of  GaussianNB() = \n",
      " [0.70590865 0.70168238 0.7050959  0.70940345 0.70566482]\n",
      "Avg accuracy of GaussianNB() = \n",
      " 70.56\n",
      "              precision    recall  f1-score   support\n",
      "\n",
      "           0       0.80      0.55      0.65     61520\n",
      "           1       0.66      0.86      0.75     61520\n",
      "\n",
      "    accuracy                           0.71    123040\n",
      "   macro avg       0.73      0.71      0.70    123040\n",
      "weighted avg       0.73      0.71      0.70    123040\n",
      "\n"
     ]
    },
    {
     "data": {
      "image/png": "[encoded data removed]",
      "text/plain": [
       "<Figure size 432x288 with 2 Axes>"
      ]
     },
     "metadata": {
      "needs_background": "light"
     },
     "output_type": "display_data"
    }
   ],
   "source": [
    "models_cross_val( GaussianNB(), scaled_data, y)"
   ]
  },
  {
   "cell_type": "markdown",
   "id": "becc1064",
   "metadata": {},
   "source": [
    "**stacking algorithm before hyperparameter tuning using best 3 models**"
   ]
  },
  {
   "cell_type": "code",
   "execution_count": 32,
   "id": "dff9ac84",
   "metadata": {},
   "outputs": [
    {
     "name": "stdout",
     "output_type": "stream",
     "text": [
      "accuracy of  StackingClassifier(cv=5,\n",
      "                   estimators=[('rf', RandomForestClassifier(random_state=0)),\n",
      "                               ('DT', DecisionTreeClassifier(random_state=0)),\n",
      "                               ('svm', SVC())],\n",
      "                   final_estimator=RandomForestClassifier(max_depth=30,\n",
      "                                                          n_estimators=10,\n",
      "                                                          random_state=0)) = \n",
      " [0.79876463 0.79738296 0.79872399 0.79941482 0.80006502]\n",
      "Avg accuracy of StackingClassifier(cv=5,\n",
      "                   estimators=[('rf', RandomForestClassifier(random_state=0)),\n",
      "                               ('DT', DecisionTreeClassifier(random_state=0)),\n",
      "                               ('svm', SVC())],\n",
      "                   final_estimator=RandomForestClassifier(max_depth=30,\n",
      "                                                          n_estimators=10,\n",
      "                                                          random_state=0)) = \n",
      " 79.89\n",
      "              precision    recall  f1-score   support\n",
      "\n",
      "           0       0.83      0.76      0.79     61520\n",
      "           1       0.78      0.84      0.81     61520\n",
      "\n",
      "    accuracy                           0.80    123040\n",
      "   macro avg       0.80      0.80      0.80    123040\n",
      "weighted avg       0.80      0.80      0.80    123040\n",
      "\n"
     ]
    },
    {
     "data": {
      "image/png": "[encoded data removed]",
      "text/plain": [
       "<Figure size 432x288 with 2 Axes>"
      ]
     },
     "metadata": {
      "needs_background": "light"
     },
     "output_type": "display_data"
    }
   ],
   "source": [
    "from sklearn.ensemble import StackingClassifier\n",
    "from sklearn.linear_model import LogisticRegression\n",
    "from sklearn import model_selection\n",
    "\n",
    "estimator_list = [\n",
    "    ('rf',RandomForestClassifier(random_state=0)),\n",
    "    ('DT',DecisionTreeClassifier(random_state=0)),\n",
    "    ('svm',SVC()) ]\n",
    "\n",
    "rf=RandomForestClassifier(random_state=0,n_estimators=10,max_depth=30)\n",
    "stack_model = StackingClassifier(estimators= estimator_list, final_estimator=rf,cv=5)\n",
    "\n",
    "models_cross_val(stack_model,scaled_data, y)"
   ]
  },
  {
   "cell_type": "markdown",
   "id": "d92ba368",
   "metadata": {},
   "source": [
    "**voting algorithm before hyperparameter tuning using best 5 models**"
   ]
  },
  {
   "cell_type": "code",
   "execution_count": 33,
   "id": "6c16447a",
   "metadata": {},
   "outputs": [
    {
     "name": "stdout",
     "output_type": "stream",
     "text": [
      "accuracy of  VotingClassifier(estimators=[('rf', RandomForestClassifier(random_state=0)),\n",
      "                             ('DT', DecisionTreeClassifier(random_state=0)),\n",
      "                             ('mlp',\n",
      "                              MLPClassifier(max_iter=300, random_state=0)),\n",
      "                             ('lr', LogisticRegression()),\n",
      "                             ('svm', SVC(random_state=0))]) = \n",
      " [0.79461964 0.79360371 0.79526983 0.79592003 0.7977487 ]\n",
      "Avg accuracy of VotingClassifier(estimators=[('rf', RandomForestClassifier(random_state=0)),\n",
      "                             ('DT', DecisionTreeClassifier(random_state=0)),\n",
      "                             ('mlp',\n",
      "                              MLPClassifier(max_iter=300, random_state=0)),\n",
      "                             ('lr', LogisticRegression()),\n",
      "                             ('svm', SVC(random_state=0))]) = \n",
      " 79.54\n",
      "              precision    recall  f1-score   support\n",
      "\n",
      "           0       0.82      0.75      0.79     61520\n",
      "           1       0.77      0.84      0.80     61520\n",
      "\n",
      "    accuracy                           0.80    123040\n",
      "   macro avg       0.80      0.80      0.80    123040\n",
      "weighted avg       0.80      0.80      0.80    123040\n",
      "\n"
     ]
    },
    {
     "data": {
      "image/png": "[encoded data removed]",
      "text/plain": [
       "<Figure size 432x288 with 2 Axes>"
      ]
     },
     "metadata": {
      "needs_background": "light"
     },
     "output_type": "display_data"
    }
   ],
   "source": [
    "from sklearn.ensemble import VotingClassifier\n",
    "\n",
    "# create a voting classifier with hard voting\n",
    "voting_classifier_hard = VotingClassifier(\n",
    "    estimators = [ ('rf',RandomForestClassifier(random_state=0)),\n",
    "                   ('DT',DecisionTreeClassifier(random_state=0)),\n",
    "                   ('mlp',MLPClassifier(max_iter=300,random_state=0)),\n",
    "                   ('lr', LogisticRegression()),\n",
    "                    ('svm',SVC(random_state=0)) ], voting='hard')\n",
    "\n",
    "models_cross_val(voting_classifier_hard,scaled_data, y)"
   ]
  },
  {
   "cell_type": "markdown",
   "id": "9d92f92b",
   "metadata": {},
   "source": [
    "**HyperParameter tuning for Best modeles**"
   ]
  },
  {
   "cell_type": "code",
   "execution_count": 88,
   "id": "12ce250a",
   "metadata": {},
   "outputs": [],
   "source": [
    "x=scaled_data.iloc[:1000]\n",
    "yy=y.iloc[:1000]"
   ]
  },
  {
   "cell_type": "code",
   "execution_count": 19,
   "id": "08f48edb",
   "metadata": {},
   "outputs": [
    {
     "name": "stdout",
     "output_type": "stream",
     "text": [
      "{'kernel': 'rbf', 'gamma': 1}\n"
     ]
    }
   ],
   "source": [
    "param_svm= {\n",
    "    'kernel' :['linear', 'rbf', 'poly'],\n",
    "    'gamma' :[0.1, 1, 10, 100]}\n",
    "classifier_svm = RandomizedSearchCV(SVC(),param_svm, cv=5)\n",
    "classifier_svm.fit(x, yy)\n",
    "best_parameters = classifier_svm.best_params_\n",
    "print(best_parameters)"
   ]
  },
  {
   "cell_type": "code",
   "execution_count": 95,
   "id": "ca435c1d",
   "metadata": {},
   "outputs": [
    {
     "name": "stdout",
     "output_type": "stream",
     "text": [
      "best parameters of random forest classifier = {'n_estimators': 10, 'max_depth': 30}\n"
     ]
    }
   ],
   "source": [
    "param_RF= {\n",
    "    'max_depth' :[10, 20, 30, 40],\n",
    "    'n_estimators' : [10, 20, 50, 100]}\n",
    "classifier_RF= RandomizedSearchCV(RandomForestClassifier(random_state=0), param_RF, cv=5)\n",
    "classifier_RF.fit(x, yy)\n",
    "best_parameters = classifier_RF.best_params_\n",
    "print(\"best parameters of random forest classifier =\",best_parameters)"
   ]
  },
  {
   "cell_type": "code",
   "execution_count": 96,
   "id": "ce384da8",
   "metadata": {},
   "outputs": [
    {
     "name": "stdout",
     "output_type": "stream",
     "text": [
      "best parameters of Decision treeClassifier = {'min_samples_split': 5, 'min_samples_leaf': 3, 'max_depth': 8, 'criterion': 'gini'}\n"
     ]
    }
   ],
   "source": [
    "param_DT= {\n",
    "    'criterion':['gini', 'entropy'],\n",
    "    'max_depth' :range(1,10),\n",
    "    'min_samples_split':range(1,10),\n",
    "    'min_samples_leaf':range(1,5)}\n",
    "classifier_DT = RandomizedSearchCV(DecisionTreeClassifier(random_state=0), param_DT, cv=5)\n",
    "classifier_DT.fit(x, yy)\n",
    "best_parameters = classifier_DT.best_params_\n",
    "print(\"best parameters of Decision treeClassifier =\",best_parameters)"
   ]
  },
  {
   "cell_type": "code",
   "execution_count": 20,
   "id": "d8821b8c",
   "metadata": {},
   "outputs": [
    {
     "name": "stdout",
     "output_type": "stream",
     "text": [
      "best parameters of MLP = {'solver': 'adam', 'max_iter': 150, 'learning_rate': 'constant', 'hidden_layer_sizes': (150, 100, 50), 'alpha': 0.0001, 'activation': 'relu'}\n"
     ]
    }
   ],
   "source": [
    "param_mlp = {\n",
    "    'hidden_layer_sizes': [(150,100,50), (120,80,40), (100,50,30)],\n",
    "    'max_iter': [50, 100, 150],\n",
    "    'activation': ['tanh', 'relu'],\n",
    "    'solver': ['sgd', 'adam'],\n",
    "    'alpha': [0.0001, 0.05],\n",
    "    'learning_rate': ['constant','adaptive'],\n",
    "}\n",
    "\n",
    "classifier_mlp = RandomizedSearchCV(MLPClassifier(), param_mlp, cv=5)\n",
    "classifier_mlp.fit(x, yy)\n",
    "best_parameters = classifier_mlp.best_params_\n",
    "print(\"best parameters of MLP =\",best_parameters)"
   ]
  },
  {
   "cell_type": "code",
   "execution_count": 98,
   "id": "0e46469a",
   "metadata": {},
   "outputs": [
    {
     "name": "stdout",
     "output_type": "stream",
     "text": [
      "best parameters of Logistic regression = {'penalty': 'l2', 'C': 100}\n"
     ]
    }
   ],
   "source": [
    "param_LR= {\n",
    "    'C':[0.001,0.01,0.1,1,10,100],\n",
    "    'penalty':['l1', 'l2']}\n",
    "classifier_lr = RandomizedSearchCV(LogisticRegression(max_iter=1000,random_state=0),param_LR, cv=5)\n",
    "classifier_lr.fit(x, yy)\n",
    "best_parameters = classifier_lr.best_params_\n",
    "print(\"best parameters of Logistic regression =\",best_parameters)"
   ]
  },
  {
   "cell_type": "markdown",
   "id": "6a14dfa9",
   "metadata": {},
   "source": [
    "**stacking algorithm after hyperparameter tuning**"
   ]
  },
  {
   "cell_type": "code",
   "execution_count": 34,
   "id": "a361f805",
   "metadata": {},
   "outputs": [
    {
     "name": "stdout",
     "output_type": "stream",
     "text": [
      "accuracy of  StackingClassifier(cv=5,\n",
      "                   estimators=[('RF',\n",
      "                                RandomForestClassifier(max_depth=30,\n",
      "                                                       n_estimators=10,\n",
      "                                                       random_state=0)),\n",
      "                               ('DT',\n",
      "                                DecisionTreeClassifier(max_depth=8,\n",
      "                                                       min_samples_leaf=3,\n",
      "                                                       min_samples_split=5)),\n",
      "                               ('svm', SVC(gamma=1))],\n",
      "                   final_estimator=RandomForestClassifier(max_depth=30,\n",
      "                                                          n_estimators=10,\n",
      "                                                          random_state=0)) = \n",
      " [0.79644831 0.79673277 0.79616385 0.79872399 0.79969928]\n",
      "Avg accuracy of StackingClassifier(cv=5,\n",
      "                   estimators=[('RF',\n",
      "                                RandomForestClassifier(max_depth=30,\n",
      "                                                       n_estimators=10,\n",
      "                                                       random_state=0)),\n",
      "                               ('DT',\n",
      "                                DecisionTreeClassifier(max_depth=8,\n",
      "                                                       min_samples_leaf=3,\n",
      "                                                       min_samples_split=5)),\n",
      "                               ('svm', SVC(gamma=1))],\n",
      "                   final_estimator=RandomForestClassifier(max_depth=30,\n",
      "                                                          n_estimators=10,\n",
      "                                                          random_state=0)) = \n",
      " 79.76\n",
      "              precision    recall  f1-score   support\n",
      "\n",
      "           0       0.75      0.90      0.82     61520\n",
      "           1       0.88      0.69      0.78     61520\n",
      "\n",
      "    accuracy                           0.80    123040\n",
      "   macro avg       0.81      0.80      0.80    123040\n",
      "weighted avg       0.81      0.80      0.80    123040\n",
      "\n"
     ]
    },
    {
     "data": {
      "image/png": "[encoded data removed]",
      "text/plain": [
       "<Figure size 432x288 with 2 Axes>"
      ]
     },
     "metadata": {
      "needs_background": "light"
     },
     "output_type": "display_data"
    }
   ],
   "source": [
    "estimator_list = [\n",
    "    ('RF',RandomForestClassifier(n_estimators=10, max_depth=30,random_state=0)),\n",
    "    ('DT',DecisionTreeClassifier(min_samples_split=5, min_samples_leaf=3, max_depth=8, criterion='gini')),\n",
    "    ('svm',SVC(kernel='rbf', gamma=1)) ]\n",
    "rf=RandomForestClassifier(random_state=0,n_estimators=10,max_depth=30)\n",
    "\n",
    "# Build stack model\n",
    "stack_model_tune = StackingClassifier(\n",
    "    estimators=estimator_list, final_estimator=rf,cv=5)\n",
    "\n",
    "# Train stacked model\n",
    "models_cross_val(stack_model_tune,scaled_data,y)\n"
   ]
  },
  {
   "cell_type": "markdown",
   "id": "e0d8fdff",
   "metadata": {},
   "source": [
    "**voting algorithm after hyperparameter tuning using best 5 models**"
   ]
  },
  {
   "cell_type": "code",
   "execution_count": 92,
   "id": "ee406d83",
   "metadata": {},
   "outputs": [
    {
     "name": "stdout",
     "output_type": "stream",
     "text": [
      "accuracy of  VotingClassifier(estimators=[('rf',\n",
      "                              RandomForestClassifier(max_depth=30,\n",
      "                                                     n_estimators=10,\n",
      "                                                     random_state=0)),\n",
      "                             ('DT',\n",
      "                              DecisionTreeClassifier(max_depth=8,\n",
      "                                                     min_samples_leaf=3,\n",
      "                                                     min_samples_split=5)),\n",
      "                             ('mlp',\n",
      "                              MLPClassifier(hidden_layer_sizes=(150, 100, 50),\n",
      "                                            max_iter=150)),\n",
      "                             ('lr', LogisticRegression(C=100)),\n",
      "                             ('svm', SVC(gamma=1))]) = \n",
      " [0.79445709 0.79494473 0.79522919 0.79648895 0.79681404]\n",
      "Avg accuracy of VotingClassifier(estimators=[('rf',\n",
      "                              RandomForestClassifier(max_depth=30,\n",
      "                                                     n_estimators=10,\n",
      "                                                     random_state=0)),\n",
      "                             ('DT',\n",
      "                              DecisionTreeClassifier(max_depth=8,\n",
      "                                                     min_samples_leaf=3,\n",
      "                                                     min_samples_split=5)),\n",
      "                             ('mlp',\n",
      "                              MLPClassifier(hidden_layer_sizes=(150, 100, 50),\n",
      "                                            max_iter=150)),\n",
      "                             ('lr', LogisticRegression(C=100)),\n",
      "                             ('svm', SVC(gamma=1))]) = \n",
      " 79.56\n",
      "              precision    recall  f1-score   support\n",
      "\n",
      "           0       0.82      0.75      0.79     61520\n",
      "           1       0.77      0.84      0.80     61520\n",
      "\n",
      "    accuracy                           0.80    123040\n",
      "   macro avg       0.80      0.80      0.80    123040\n",
      "weighted avg       0.80      0.80      0.80    123040\n",
      "\n"
     ]
    },
    {
     "data": {
      "image/png": "[encoded data removed]",
      "text/plain": [
       "<Figure size 432x288 with 2 Axes>"
      ]
     },
     "metadata": {
      "needs_background": "light"
     },
     "output_type": "display_data"
    },
    {
     "data": {
      "text/plain": [
       "VotingClassifier(estimators=[('rf',\n",
       "                              RandomForestClassifier(max_depth=30,\n",
       "                                                     n_estimators=10,\n",
       "                                                     random_state=0)),\n",
       "                             ('DT',\n",
       "                              DecisionTreeClassifier(max_depth=8,\n",
       "                                                     min_samples_leaf=3,\n",
       "                                                     min_samples_split=5)),\n",
       "                             ('mlp',\n",
       "                              MLPClassifier(hidden_layer_sizes=(150, 100, 50),\n",
       "                                            max_iter=150)),\n",
       "                             ('lr', LogisticRegression(C=100)),\n",
       "                             ('svm', SVC(gamma=1))])"
      ]
     },
     "execution_count": 92,
     "metadata": {},
     "output_type": "execute_result"
    }
   ],
   "source": [
    "voting_hard_tune = VotingClassifier(\n",
    "    estimators = [ ('rf',RandomForestClassifier(n_estimators=10, max_depth=30,random_state=0)),\n",
    "                   ('DT',DecisionTreeClassifier(min_samples_split=5, min_samples_leaf=3, max_depth=8, criterion='gini')),\n",
    "                   ('mlp',MLPClassifier(solver= 'adam', max_iter=150, learning_rate='constant',\n",
    "                                        hidden_layer_sizes= (150, 100, 50), alpha= 0.0001, activation= 'relu')),\n",
    "                   ('lr', LogisticRegression(penalty='l2', C= 100)),\n",
    "                   ('svm',SVC(kernel='rbf', gamma=1)) ], voting='hard')\n",
    "\n",
    "models_cross_val(voting_hard_tune,scaled_data,y)\n"
   ]
  },
  {
   "cell_type": "markdown",
   "id": "73c95045",
   "metadata": {},
   "source": [
    "**Preprocessing for testing data**"
   ]
  },
  {
   "cell_type": "code",
   "execution_count": 60,
   "id": "0e5e99a9",
   "metadata": {},
   "outputs": [],
   "source": [
    "tst=[]\n",
    "for vec in Data_test['word_vector'] :\n",
    "    tst.append(vec.max(axis=0))\n",
    "word_vec_df=pd.DataFrame(tst)\n"
   ]
  },
  {
   "cell_type": "code",
   "execution_count": 61,
   "id": "09eb5457",
   "metadata": {},
   "outputs": [],
   "source": [
    "new_test = pd.concat([Category,word_vec_df], join = 'outer', axis = 1)\n",
    "scaler.fit(new_test)\n",
    "scaled_data= scaler.transform(new_test)\n",
    "scaled_data_test= pd.DataFrame(scaled_data)"
   ]
  },
  {
   "cell_type": "markdown",
   "id": "71b8f68c",
   "metadata": {},
   "source": [
    "**Make prediction with champion model with testing data**"
   ]
  },
  {
   "cell_type": "code",
   "execution_count": 93,
   "id": "72f9a017",
   "metadata": {},
   "outputs": [],
   "source": [
    "best_model = stack_model"
   ]
  },
  {
   "cell_type": "code",
   "execution_count": 104,
   "id": "f7355533",
   "metadata": {},
   "outputs": [
    {
     "data": {
      "text/plain": [
       "StackingClassifier(cv=5,\n",
       "                   estimators=[('rf', RandomForestClassifier(random_state=0)),\n",
       "                               ('DT', DecisionTreeClassifier(random_state=0)),\n",
       "                               ('svm', SVC())],\n",
       "                   final_estimator=RandomForestClassifier(max_depth=30,\n",
       "                                                          n_estimators=10,\n",
       "                                                          random_state=0))"
      ]
     },
     "execution_count": 104,
     "metadata": {},
     "output_type": "execute_result"
    }
   ],
   "source": [
    "best_model.fit(scaled_data,y)"
   ]
  },
  {
   "cell_type": "code",
   "execution_count": 101,
   "id": "14dd636e",
   "metadata": {},
   "outputs": [],
   "source": [
    "import pickle\n",
    "filename = 'stack_model.sav'\n",
    "pickle.dump(best_model, open(filename, 'wb'))\n",
    " "
   ]
  },
  {
   "cell_type": "code",
   "execution_count": 106,
   "id": "63cddbcc",
   "metadata": {},
   "outputs": [
    {
     "name": "stdout",
     "output_type": "stream",
     "text": [
      "After save: [0 1 1 ... 0 0 1]\n"
     ]
    }
   ],
   "source": [
    "loaded_model = pickle.load(open(filename, 'rb'))\n",
    "print(\"After save:\",loaded_model.predict(scaled_data_test))"
   ]
  },
  {
   "cell_type": "code",
   "execution_count": null,
   "id": "81e1ae8b",
   "metadata": {},
   "outputs": [],
   "source": []
  }
 ],
 "metadata": {
  "kernelspec": {
   "display_name": "Python 3",
   "language": "python",
   "name": "python3"
  },
  "language_info": {
   "codemirror_mode": {
    "name": "ipython",
    "version": 3
   },
   "file_extension": ".py",
   "mimetype": "text/x-python",
   "name": "python",
   "nbconvert_exporter": "python",
   "pygments_lexer": "ipython3",
   "version": "3.6.13"
  }
 },
 "nbformat": 4,
 "nbformat_minor": 5
}
